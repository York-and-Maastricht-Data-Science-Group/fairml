{
 "cells": [
  {
   "cell_type": "markdown",
   "metadata": {},
   "source": [
    "# FairML: Demo<br>\n",
    "Predict income <=50K: 0, >50K: 1"
   ]
  },
  {
   "cell_type": "markdown",
   "metadata": {},
   "source": [
    "# Contents"
   ]
  },
  {
   "cell_type": "markdown",
   "metadata": {},
   "source": [
    "[FairML: Demo](#FairML:-Demo)<br>\n",
    "[Contents](#Contents)<br>\n",
    "* [1. Bias Mitigation: Bias Mitigation 01](#1.-Bias-Mitigation:-Bias-Mitigation-01)<br>\n",
    "  * [1.1. Dataset Adult Dataset](#1.1.-Dataset-Adult-Dataset)<br>\n",
    "      * [1.1.1. Original Dataset](#1.1.1.-Original-Dataset)<br>\n",
    "          * [1.1.1.1. Classifier DecisionTreeClassifier, Parameters: criterion='gini', max_depth=4](#1.1.1.1.-Original-Dataset:-Classifier-DecisionTreeClassifier,-Parameters:-criterion='gini',-max_depth=4)<br>\n",
    "              * [1.1.1.1.1. Bias Metrics](#1.1.1.1.1.-Original-Dataset:-Bias-Metrics)<br>\n",
    "      * [1.1.2. Mitigate Bias using DisparateImpactRemover](#1.1.2.-Mitigate-Bias-using-DisparateImpactRemover)<br>\n",
    "          * [1.1.2.1. Classifier DecisionTreeClassifier, Parameters: criterion='gini', max_depth=4](#1.1.2.1.-After-mitigation-Dataset:-Classifier-DecisionTreeClassifier,-Parameters:-criterion='gini',-max_depth=4)<br>\n",
    "              * [1.1.2.1.1. Bias Metrics](#1.1.2.1.1.-After-mitigation:-Bias-Metrics)<br>\n",
    "      * [1.1.3. Mitigate Bias using Reweighing](#1.1.3.-Mitigate-Bias-using-Reweighing)<br>\n",
    "          * [1.1.3.1. Classifier DecisionTreeClassifier, Parameters: criterion='gini', max_depth=4](#1.1.3.1.-After-mitigation-Dataset:-Classifier-DecisionTreeClassifier,-Parameters:-criterion='gini',-max_depth=4)<br>\n",
    "              * [1.1.3.1.1. Bias Metrics](#1.1.3.1.1.-After-mitigation:-Bias-Metrics)<br>\n",
    "  * [1.2. Summary](#1.2.-Summary)"
   ]
  },
  {
   "cell_type": "markdown",
   "metadata": {},
   "source": [
    "Load dependencies."
   ]
  },
  {
   "cell_type": "code",
   "execution_count": 1,
   "metadata": {},
   "outputs": [],
   "source": [
    "from fairml import *\n",
    "import inspect\n",
    "import numpy as np\n",
    "import pandas as pd\n",
    "from sklearn import tree\n",
    "from sklearn.preprocessing import MaxAbsScaler\n",
    "from sklearn.tree import DecisionTreeClassifier\n",
    "# from sklearn.linear_model import LogisticRegression\n",
    "# from sklearn.svm import LinearSVC\n",
    "# from sklearn.neighbors import KNeighborsClassifier\n",
    "# from sklearn.naive_bayes import GaussianNB\n",
    "from sklearn import metrics\n",
    "from sklearn.preprocessing import StandardScaler\n",
    "from sklearn.pipeline import make_pipeline\n",
    "from aif360.metrics import BinaryLabelDatasetMetric\n",
    "from aif360.metrics import ClassificationMetric\n",
    "from aif360.algorithms.preprocessing import *\n",
    "from aif360.algorithms.inprocessing import *\n",
    "from aif360.algorithms.postprocessing import *\n",
    "from aif360.explainers import MetricTextExplainer\n",
    "from aif360.datasets import StandardDataset\n",
    "import matplotlib.pyplot as plt\n",
    "from collections import defaultdict\n",
    "from IPython.display import Markdown, display\n",
    "from IPython import get_ipython"
   ]
  },
  {
   "cell_type": "code",
   "execution_count": 2,
   "metadata": {},
   "outputs": [],
   "source": [
    "fairml = FairML()"
   ]
  },
  {
   "cell_type": "code",
   "execution_count": 3,
   "metadata": {},
   "outputs": [
    {
     "name": "stdout",
     "output_type": "stream",
     "text": [
      "========================\n",
      "FairML: Demo\n",
      "========================\n",
      "Description:\n",
      "Predict income <=50K: 0, >50K: 1\n"
     ]
    }
   ],
   "source": [
    "print(\"========================\")\n",
    "print(\"FairML: Demo\")\n",
    "print(\"========================\")\n",
    "print(\"Description:\")\n",
    "print(\"Predict income <=50K: 0, >50K: 1\")"
   ]
  },
  {
   "cell_type": "markdown",
   "metadata": {},
   "source": [
    "## [1.](#Contents) Bias Mitigation: Bias Mitigation 01"
   ]
  },
  {
   "cell_type": "code",
   "execution_count": 4,
   "metadata": {},
   "outputs": [],
   "source": [
    "bm = fairml.add_bias_mitigation(BiasMitigation())"
   ]
  },
  {
   "cell_type": "code",
   "execution_count": 5,
   "metadata": {},
   "outputs": [
    {
     "name": "stdout",
     "output_type": "stream",
     "text": [
      "\n",
      "========================\n",
      "Bias Mitigation: Bias Mitigation 01\n",
      "------------------------\n"
     ]
    }
   ],
   "source": [
    "print(\"\")\n",
    "print(\"========================\")\n",
    "print(\"Bias Mitigation: Bias Mitigation 01\")\n",
    "print(\"------------------------\")"
   ]
  },
  {
   "cell_type": "markdown",
   "metadata": {},
   "source": [
    "### [1.1.](#Contents) Dataset Adult Dataset"
   ]
  },
  {
   "cell_type": "code",
   "execution_count": 6,
   "metadata": {},
   "outputs": [
    {
     "name": "stdout",
     "output_type": "stream",
     "text": [
      "\n",
      "Dataset: Adult Dataset\n",
      "-------------\n"
     ]
    }
   ],
   "source": [
    "print(\"\")\n",
    "print(\"Dataset: Adult Dataset\")\n",
    "print(\"-------------\")"
   ]
  },
  {
   "cell_type": "markdown",
   "metadata": {},
   "source": [
    "#### [1.1.1.](#Contents) Original Dataset"
   ]
  },
  {
   "cell_type": "code",
   "execution_count": 7,
   "metadata": {},
   "outputs": [],
   "source": [
    "bm.predicted_attribute = 'income-per-year'\n",
    "bm.protected_attributes = ['sex', 'race']\n",
    "bm.favorable_class = 1\n",
    "bm.privileged_class = 1\n",
    "bm.unprivileged_class = 0\n",
    "bm.dropped_attributes = []\n",
    "bm.na_values = []\n",
    "bm.training_size = 7.0    \n",
    "bm.test_size = 2.0\n",
    "bm.validation_size = 3.0\n",
    "bm.total_size = bm.training_size + bm.test_size + bm.validation_size\n",
    "bm.categorical_features = ['workclass', 'education', 'marital-status', 'occupation', 'relationship', 'native-country']\n",
    "bm.default_mappings = None"
   ]
  },
  {
   "cell_type": "markdown",
   "metadata": {},
   "source": [
    "Load dataset."
   ]
  },
  {
   "cell_type": "code",
   "execution_count": 8,
   "metadata": {},
   "outputs": [],
   "source": [
    "bm.resource = \"data/adult.data.numeric.csv\"\n",
    "bm.data = pd.read_csv(bm.resource, header=0)\n",
    "bm.dataset_original = StandardDataset(df=bm.data, label_name=bm.predicted_attribute, \n",
    "                favorable_classes=[bm.favorable_class],\n",
    "                protected_attribute_names=bm.protected_attributes,\n",
    "                privileged_classes=[[bm.privileged_class]],\n",
    "                instance_weights_name=None,\n",
    "                categorical_features=bm.categorical_features,\n",
    "                features_to_keep=[],\n",
    "                features_to_drop=bm.dropped_attributes,\n",
    "                na_values=bm.na_values, \n",
    "                custom_preprocessing=None,\n",
    "                metadata=bm.default_mappings)\n",
    "bm.dataset_original_train, bm.dataset_original_valid, bm.dataset_original_test = bm.dataset_original.split([bm.training_size/bm.total_size, (bm.training_size/bm.total_size) + (bm.validation_size/bm.total_size)], shuffle=True)\n",
    "bm.privileged_groups = [{bm.protected_attributes[0] : bm.privileged_class}]\n",
    "bm.unprivileged_groups = [{bm.protected_attributes[0] : bm.unprivileged_class}]"
   ]
  },
  {
   "cell_type": "markdown",
   "metadata": {},
   "source": [
    "##### [1.1.1.1.](#Contents) Original Dataset: Classifier DecisionTreeClassifier, Parameters: criterion='gini', max_depth=4"
   ]
  },
  {
   "cell_type": "code",
   "execution_count": 9,
   "metadata": {},
   "outputs": [
    {
     "name": "stdout",
     "output_type": "stream",
     "text": [
      "\n",
      "Original Dataset: Classifier DecisionTreeClassifier, Parameters: criterion='gini', max_depth=4\n",
      "-------------\n"
     ]
    }
   ],
   "source": [
    "print(\"\")\n",
    "print(\"Original Dataset: Classifier DecisionTreeClassifier, Parameters: criterion='gini', max_depth=4\")\n",
    "print(\"-------------\")"
   ]
  },
  {
   "cell_type": "markdown",
   "metadata": {},
   "source": [
    "Train the model from the original train data"
   ]
  },
  {
   "cell_type": "code",
   "execution_count": 10,
   "metadata": {},
   "outputs": [],
   "source": [
    "classifier = DecisionTreeClassifier(criterion='gini', max_depth=4)\n",
    "model_original_train = bm.train(bm.dataset_original_train,  classifier)"
   ]
  },
  {
   "cell_type": "markdown",
   "metadata": {},
   "source": [
    "###### [1.1.1.1.1.](#Contents) Original Dataset: Bias Metrics"
   ]
  },
  {
   "cell_type": "code",
   "execution_count": 11,
   "metadata": {},
   "outputs": [
    {
     "name": "stdout",
     "output_type": "stream",
     "text": [
      "Original Bias Metrics\n"
     ]
    }
   ],
   "source": [
    "print(\"Original Bias Metrics\")\n",
    "dataset_original_train_pred = bm.create_predicted_dataset(bm.dataset_original_train, model_original_train)"
   ]
  },
  {
   "cell_type": "code",
   "execution_count": 12,
   "metadata": {},
   "outputs": [],
   "source": [
    "bm.init_new_result(\"Original\", \"Adult Dataset\", \"DecisionTreeClassifier\")"
   ]
  },
  {
   "cell_type": "code",
   "execution_count": 13,
   "metadata": {},
   "outputs": [
    {
     "data": {
      "text/markdown": [
       "After mitigation accuracy: 0.835562"
      ],
      "text/plain": [
       "<IPython.core.display.Markdown object>"
      ]
     },
     "metadata": {},
     "output_type": "display_data"
    },
    {
     "data": {
      "text/markdown": [
       "After mitigation explainer: Classification accuracy (ACC): 0.83556210733214"
      ],
      "text/plain": [
       "<IPython.core.display.Markdown object>"
      ]
     },
     "metadata": {},
     "output_type": "display_data"
    },
    {
     "data": {
      "text/markdown": [
       "After mitigation disparate_impact: 0.302107"
      ],
      "text/plain": [
       "<IPython.core.display.Markdown object>"
      ]
     },
     "metadata": {},
     "output_type": "display_data"
    },
    {
     "data": {
      "text/markdown": [
       "After mitigation explainer: Disparate impact (probability of favorable outcome for unprivileged instances / probability of favorable outcome for privileged instances): 0.30210671187518606"
      ],
      "text/plain": [
       "<IPython.core.display.Markdown object>"
      ]
     },
     "metadata": {},
     "output_type": "display_data"
    },
    {
     "data": {
      "text/markdown": [
       "After mitigation statistical_parity_difference: -0.132960"
      ],
      "text/plain": [
       "<IPython.core.display.Markdown object>"
      ]
     },
     "metadata": {},
     "output_type": "display_data"
    },
    {
     "data": {
      "text/markdown": [
       "After mitigation explainer: Statistical parity difference (probability of favorable outcome for unprivileged instances - probability of favorable outcome for privileged instances): -0.1329600082096691"
      ],
      "text/plain": [
       "<IPython.core.display.Markdown object>"
      ]
     },
     "metadata": {},
     "output_type": "display_data"
    },
    {
     "data": {
      "text/markdown": [
       "After mitigation average_odds_difference: -0.056464"
      ],
      "text/plain": [
       "<IPython.core.display.Markdown object>"
      ]
     },
     "metadata": {},
     "output_type": "display_data"
    },
    {
     "data": {
      "text/markdown": [
       "After mitigation explainer: Average odds difference (average of TPR difference and FPR difference, 0 = equality of odds): -0.056464348862829444"
      ],
      "text/plain": [
       "<IPython.core.display.Markdown object>"
      ]
     },
     "metadata": {},
     "output_type": "display_data"
    },
    {
     "data": {
      "text/markdown": [
       "After mitigation generalized_entropy_index: 0.094805"
      ],
      "text/plain": [
       "<IPython.core.display.Markdown object>"
      ]
     },
     "metadata": {},
     "output_type": "display_data"
    },
    {
     "data": {
      "text/markdown": [
       "After mitigation explainer: Generalized entropy index (GE(alpha)): 0.0948052999611521"
      ],
      "text/plain": [
       "<IPython.core.display.Markdown object>"
      ]
     },
     "metadata": {},
     "output_type": "display_data"
    },
    {
     "data": {
      "text/markdown": [
       "After mitigation theil_index: 0.152701"
      ],
      "text/plain": [
       "<IPython.core.display.Markdown object>"
      ]
     },
     "metadata": {},
     "output_type": "display_data"
    },
    {
     "data": {
      "text/markdown": [
       "After mitigation explainer: Theil index (generalized entropy index with alpha = 1): 0.15270107148998197"
      ],
      "text/plain": [
       "<IPython.core.display.Markdown object>"
      ]
     },
     "metadata": {},
     "output_type": "display_data"
    }
   ],
   "source": [
    "bm.measure_bias(\"accuracy\", bm.dataset_original_train, dataset_original_train_pred, bm.privileged_groups, bm.unprivileged_groups)\n",
    "bm.measure_bias(\"disparate_impact\", bm.dataset_original_train, dataset_original_train_pred, bm.privileged_groups, bm.unprivileged_groups)\n",
    "bm.measure_bias(\"statistical_parity_difference\", bm.dataset_original_train, dataset_original_train_pred, bm.privileged_groups, bm.unprivileged_groups)\n",
    "bm.measure_bias(\"average_odds_difference\", bm.dataset_original_train, dataset_original_train_pred, bm.privileged_groups, bm.unprivileged_groups)\n",
    "bm.measure_bias(\"generalized_entropy_index\", bm.dataset_original_train, dataset_original_train_pred, bm.privileged_groups, bm.unprivileged_groups)\n",
    "bm.measure_bias(\"theil_index\", bm.dataset_original_train, dataset_original_train_pred, bm.privileged_groups, bm.unprivileged_groups)"
   ]
  },
  {
   "cell_type": "markdown",
   "metadata": {},
   "source": [
    "#### [1.1.2.](#Contents) Mitigate Bias using DisparateImpactRemover  "
   ]
  },
  {
   "cell_type": "code",
   "execution_count": 14,
   "metadata": {},
   "outputs": [
    {
     "name": "stdout",
     "output_type": "stream",
     "text": [
      "\n",
      "Mitigate Bias using DisparateImpactRemover\n",
      "-------------\n"
     ]
    }
   ],
   "source": [
    "print(\"\")\n",
    "print(\"Mitigate Bias using DisparateImpactRemover\")\n",
    "print(\"-------------\")\n",
    "mitigation_method = bm.create_mitigation_method(DisparateImpactRemover, )\n",
    "dataset_mitigated_train = mitigation_method.fit_transform(bm.dataset_original_train)\n",
    "dataset_mitigated_valid = mitigation_method.fit_transform(bm.dataset_original_valid)\n",
    "dataset_mitigated_test = mitigation_method.fit_transform(bm.dataset_original_test)"
   ]
  },
  {
   "cell_type": "markdown",
   "metadata": {},
   "source": [
    "##### [1.1.2.1.](#Contents) After-mitigation Dataset: Classifier DecisionTreeClassifier, Parameters: criterion='gini', max_depth=4"
   ]
  },
  {
   "cell_type": "code",
   "execution_count": 15,
   "metadata": {},
   "outputs": [
    {
     "name": "stdout",
     "output_type": "stream",
     "text": [
      "\n",
      "After-mitigation Training: DecisionTreeClassifier, Parameters: criterion='gini', max_depth=4\n",
      "-------------\n"
     ]
    }
   ],
   "source": [
    "print(\"\")\n",
    "print(\"After-mitigation Training: DecisionTreeClassifier, Parameters: criterion='gini', max_depth=4\")\n",
    "print(\"-------------\")"
   ]
  },
  {
   "cell_type": "markdown",
   "metadata": {},
   "source": [
    "Train the model from the after-mitigation train data"
   ]
  },
  {
   "cell_type": "code",
   "execution_count": 16,
   "metadata": {},
   "outputs": [],
   "source": [
    "classifier = DecisionTreeClassifier(criterion='gini', max_depth=4)\n",
    "model_mitigated_train = bm.train(dataset_mitigated_train,  classifier)"
   ]
  },
  {
   "cell_type": "markdown",
   "metadata": {},
   "source": [
    "###### [1.1.2.1.1.](#Contents) After-mitigation: Bias Metrics"
   ]
  },
  {
   "cell_type": "code",
   "execution_count": 17,
   "metadata": {},
   "outputs": [
    {
     "name": "stdout",
     "output_type": "stream",
     "text": [
      "After-mitigation Metrics\n"
     ]
    }
   ],
   "source": [
    "print(\"After-mitigation Metrics\")\n",
    "dataset_mitigated_train_pred = bm.create_predicted_dataset(dataset_mitigated_train, model_mitigated_train)\n",
    "dataset_mitigated_valid_pred = bm.create_predicted_dataset(dataset_mitigated_valid, model_mitigated_train)\n",
    "dataset_mitigated_test_pred = bm.create_predicted_dataset(dataset_mitigated_test, model_mitigated_train)"
   ]
  },
  {
   "cell_type": "code",
   "execution_count": 18,
   "metadata": {},
   "outputs": [],
   "source": [
    "bm.init_new_result(\"DisparateImpactRemover\", \"Adult Dataset\", \"DecisionTreeClassifier\")"
   ]
  },
  {
   "cell_type": "code",
   "execution_count": 19,
   "metadata": {},
   "outputs": [
    {
     "data": {
      "text/markdown": [
       "After mitigation accuracy: 0.835892"
      ],
      "text/plain": [
       "<IPython.core.display.Markdown object>"
      ]
     },
     "metadata": {},
     "output_type": "display_data"
    },
    {
     "data": {
      "text/markdown": [
       "After mitigation explainer: Classification accuracy (ACC): 0.8358923965114851"
      ],
      "text/plain": [
       "<IPython.core.display.Markdown object>"
      ]
     },
     "metadata": {},
     "output_type": "display_data"
    },
    {
     "data": {
      "text/markdown": [
       "After mitigation disparate_impact: 0.352922"
      ],
      "text/plain": [
       "<IPython.core.display.Markdown object>"
      ]
     },
     "metadata": {},
     "output_type": "display_data"
    },
    {
     "data": {
      "text/markdown": [
       "After mitigation explainer: Disparate impact (probability of favorable outcome for unprivileged instances / probability of favorable outcome for privileged instances): 0.35292183031984575"
      ],
      "text/plain": [
       "<IPython.core.display.Markdown object>"
      ]
     },
     "metadata": {},
     "output_type": "display_data"
    },
    {
     "data": {
      "text/markdown": [
       "After mitigation statistical_parity_difference: -0.119268"
      ],
      "text/plain": [
       "<IPython.core.display.Markdown object>"
      ]
     },
     "metadata": {},
     "output_type": "display_data"
    },
    {
     "data": {
      "text/markdown": [
       "After mitigation explainer: Statistical parity difference (probability of favorable outcome for unprivileged instances - probability of favorable outcome for privileged instances): -0.11926772906097308"
      ],
      "text/plain": [
       "<IPython.core.display.Markdown object>"
      ]
     },
     "metadata": {},
     "output_type": "display_data"
    },
    {
     "data": {
      "text/markdown": [
       "After mitigation average_odds_difference: -0.025650"
      ],
      "text/plain": [
       "<IPython.core.display.Markdown object>"
      ]
     },
     "metadata": {},
     "output_type": "display_data"
    },
    {
     "data": {
      "text/markdown": [
       "After mitigation explainer: Average odds difference (average of TPR difference and FPR difference, 0 = equality of odds): -0.02564973062259254"
      ],
      "text/plain": [
       "<IPython.core.display.Markdown object>"
      ]
     },
     "metadata": {},
     "output_type": "display_data"
    },
    {
     "data": {
      "text/markdown": [
       "After mitigation generalized_entropy_index: 0.094544"
      ],
      "text/plain": [
       "<IPython.core.display.Markdown object>"
      ]
     },
     "metadata": {},
     "output_type": "display_data"
    },
    {
     "data": {
      "text/markdown": [
       "After mitigation explainer: Generalized entropy index (GE(alpha)): 0.09454361691751112"
      ],
      "text/plain": [
       "<IPython.core.display.Markdown object>"
      ]
     },
     "metadata": {},
     "output_type": "display_data"
    },
    {
     "data": {
      "text/markdown": [
       "After mitigation theil_index: 0.152194"
      ],
      "text/plain": [
       "<IPython.core.display.Markdown object>"
      ]
     },
     "metadata": {},
     "output_type": "display_data"
    },
    {
     "data": {
      "text/markdown": [
       "After mitigation explainer: Theil index (generalized entropy index with alpha = 1): 0.15219364795664772"
      ],
      "text/plain": [
       "<IPython.core.display.Markdown object>"
      ]
     },
     "metadata": {},
     "output_type": "display_data"
    }
   ],
   "source": [
    "bm.measure_bias(\"accuracy\", dataset_mitigated_test, dataset_mitigated_test_pred, bm.privileged_groups, bm.unprivileged_groups)\n",
    "bm.measure_bias(\"disparate_impact\", dataset_mitigated_test, dataset_mitigated_test_pred, bm.privileged_groups, bm.unprivileged_groups)\n",
    "bm.measure_bias(\"statistical_parity_difference\", dataset_mitigated_test, dataset_mitigated_test_pred, bm.privileged_groups, bm.unprivileged_groups)\n",
    "bm.measure_bias(\"average_odds_difference\", dataset_mitigated_test, dataset_mitigated_test_pred, bm.privileged_groups, bm.unprivileged_groups)\n",
    "bm.measure_bias(\"generalized_entropy_index\", dataset_mitigated_test, dataset_mitigated_test_pred, bm.privileged_groups, bm.unprivileged_groups)\n",
    "bm.measure_bias(\"theil_index\", dataset_mitigated_test, dataset_mitigated_test_pred, bm.privileged_groups, bm.unprivileged_groups)"
   ]
  },
  {
   "cell_type": "markdown",
   "metadata": {},
   "source": [
    "#### [1.1.3.](#Contents) Mitigate Bias using Reweighing  "
   ]
  },
  {
   "cell_type": "code",
   "execution_count": 20,
   "metadata": {},
   "outputs": [
    {
     "name": "stdout",
     "output_type": "stream",
     "text": [
      "\n",
      "Mitigate Bias using Reweighing\n",
      "-------------\n"
     ]
    }
   ],
   "source": [
    "print(\"\")\n",
    "print(\"Mitigate Bias using Reweighing\")\n",
    "print(\"-------------\")\n",
    "mitigation_method = bm.create_mitigation_method(Reweighing, )\n",
    "dataset_mitigated_train = mitigation_method.fit_transform(bm.dataset_original_train)\n",
    "dataset_mitigated_valid = mitigation_method.fit_transform(bm.dataset_original_valid)\n",
    "dataset_mitigated_test = mitigation_method.fit_transform(bm.dataset_original_test)"
   ]
  },
  {
   "cell_type": "markdown",
   "metadata": {},
   "source": [
    "##### [1.1.3.1.](#Contents) After-mitigation Dataset: Classifier DecisionTreeClassifier, Parameters: criterion='gini', max_depth=4"
   ]
  },
  {
   "cell_type": "code",
   "execution_count": 21,
   "metadata": {},
   "outputs": [
    {
     "name": "stdout",
     "output_type": "stream",
     "text": [
      "\n",
      "After-mitigation Training: DecisionTreeClassifier, Parameters: criterion='gini', max_depth=4\n",
      "-------------\n"
     ]
    }
   ],
   "source": [
    "print(\"\")\n",
    "print(\"After-mitigation Training: DecisionTreeClassifier, Parameters: criterion='gini', max_depth=4\")\n",
    "print(\"-------------\")"
   ]
  },
  {
   "cell_type": "markdown",
   "metadata": {},
   "source": [
    "Train the model from the after-mitigation train data"
   ]
  },
  {
   "cell_type": "code",
   "execution_count": 22,
   "metadata": {},
   "outputs": [],
   "source": [
    "classifier = DecisionTreeClassifier(criterion='gini', max_depth=4)\n",
    "model_mitigated_train = bm.train(dataset_mitigated_train,  classifier)"
   ]
  },
  {
   "cell_type": "markdown",
   "metadata": {},
   "source": [
    "###### [1.1.3.1.1.](#Contents) After-mitigation: Bias Metrics"
   ]
  },
  {
   "cell_type": "code",
   "execution_count": 23,
   "metadata": {},
   "outputs": [
    {
     "name": "stdout",
     "output_type": "stream",
     "text": [
      "After-mitigation Metrics\n"
     ]
    }
   ],
   "source": [
    "print(\"After-mitigation Metrics\")\n",
    "dataset_mitigated_train_pred = bm.create_predicted_dataset(dataset_mitigated_train, model_mitigated_train)\n",
    "dataset_mitigated_valid_pred = bm.create_predicted_dataset(dataset_mitigated_valid, model_mitigated_train)\n",
    "dataset_mitigated_test_pred = bm.create_predicted_dataset(dataset_mitigated_test, model_mitigated_train)"
   ]
  },
  {
   "cell_type": "code",
   "execution_count": 24,
   "metadata": {},
   "outputs": [],
   "source": [
    "bm.init_new_result(\"Reweighing\", \"Adult Dataset\", \"DecisionTreeClassifier\")"
   ]
  },
  {
   "cell_type": "code",
   "execution_count": 25,
   "metadata": {},
   "outputs": [
    {
     "data": {
      "text/markdown": [
       "After mitigation accuracy: 0.841921"
      ],
      "text/plain": [
       "<IPython.core.display.Markdown object>"
      ]
     },
     "metadata": {},
     "output_type": "display_data"
    },
    {
     "data": {
      "text/markdown": [
       "After mitigation explainer: Classification accuracy (ACC): 0.8419207681207685"
      ],
      "text/plain": [
       "<IPython.core.display.Markdown object>"
      ]
     },
     "metadata": {},
     "output_type": "display_data"
    },
    {
     "data": {
      "text/markdown": [
       "After mitigation disparate_impact: 3.396592"
      ],
      "text/plain": [
       "<IPython.core.display.Markdown object>"
      ]
     },
     "metadata": {},
     "output_type": "display_data"
    },
    {
     "data": {
      "text/markdown": [
       "After mitigation explainer: Disparate impact (probability of favorable outcome for unprivileged instances / probability of favorable outcome for privileged instances): 3.3965917452433647"
      ],
      "text/plain": [
       "<IPython.core.display.Markdown object>"
      ]
     },
     "metadata": {},
     "output_type": "display_data"
    },
    {
     "data": {
      "text/markdown": [
       "After mitigation statistical_parity_difference: 0.167686"
      ],
      "text/plain": [
       "<IPython.core.display.Markdown object>"
      ]
     },
     "metadata": {},
     "output_type": "display_data"
    },
    {
     "data": {
      "text/markdown": [
       "After mitigation explainer: Statistical parity difference (probability of favorable outcome for unprivileged instances - probability of favorable outcome for privileged instances): 0.1676858511049902"
      ],
      "text/plain": [
       "<IPython.core.display.Markdown object>"
      ]
     },
     "metadata": {},
     "output_type": "display_data"
    },
    {
     "data": {
      "text/markdown": [
       "After mitigation average_odds_difference: 0.271833"
      ],
      "text/plain": [
       "<IPython.core.display.Markdown object>"
      ]
     },
     "metadata": {},
     "output_type": "display_data"
    },
    {
     "data": {
      "text/markdown": [
       "After mitigation explainer: Average odds difference (average of TPR difference and FPR difference, 0 = equality of odds): 0.2718326561484964"
      ],
      "text/plain": [
       "<IPython.core.display.Markdown object>"
      ]
     },
     "metadata": {},
     "output_type": "display_data"
    },
    {
     "data": {
      "text/markdown": [
       "After mitigation generalized_entropy_index: 0.107999"
      ],
      "text/plain": [
       "<IPython.core.display.Markdown object>"
      ]
     },
     "metadata": {},
     "output_type": "display_data"
    },
    {
     "data": {
      "text/markdown": [
       "After mitigation explainer: Generalized entropy index (GE(alpha)): 0.10799925107806518"
      ],
      "text/plain": [
       "<IPython.core.display.Markdown object>"
      ]
     },
     "metadata": {},
     "output_type": "display_data"
    },
    {
     "data": {
      "text/markdown": [
       "After mitigation theil_index: 0.178945"
      ],
      "text/plain": [
       "<IPython.core.display.Markdown object>"
      ]
     },
     "metadata": {},
     "output_type": "display_data"
    },
    {
     "data": {
      "text/markdown": [
       "After mitigation explainer: Theil index (generalized entropy index with alpha = 1): 0.17894546103655312"
      ],
      "text/plain": [
       "<IPython.core.display.Markdown object>"
      ]
     },
     "metadata": {},
     "output_type": "display_data"
    }
   ],
   "source": [
    "bm.measure_bias(\"accuracy\", dataset_mitigated_test, dataset_mitigated_test_pred, bm.privileged_groups, bm.unprivileged_groups)\n",
    "bm.measure_bias(\"disparate_impact\", dataset_mitigated_test, dataset_mitigated_test_pred, bm.privileged_groups, bm.unprivileged_groups)\n",
    "bm.measure_bias(\"statistical_parity_difference\", dataset_mitigated_test, dataset_mitigated_test_pred, bm.privileged_groups, bm.unprivileged_groups)\n",
    "bm.measure_bias(\"average_odds_difference\", dataset_mitigated_test, dataset_mitigated_test_pred, bm.privileged_groups, bm.unprivileged_groups)\n",
    "bm.measure_bias(\"generalized_entropy_index\", dataset_mitigated_test, dataset_mitigated_test_pred, bm.privileged_groups, bm.unprivileged_groups)\n",
    "bm.measure_bias(\"theil_index\", dataset_mitigated_test, dataset_mitigated_test_pred, bm.privileged_groups, bm.unprivileged_groups)"
   ]
  },
  {
   "cell_type": "markdown",
   "metadata": {},
   "source": [
    "### [1.2.](#Contents) Summary"
   ]
  },
  {
   "cell_type": "code",
   "execution_count": 26,
   "metadata": {},
   "outputs": [
    {
     "name": "stdout",
     "output_type": "stream",
     "text": [
      "\n",
      "0.16443789266786002 0.15807923187923145 0.16443789266786002\n",
      "0.16410760348851494 0.15807923187923145 0.16443789266786002\n",
      "0.15807923187923145 0.15807923187923145 0.16443789266786002\n",
      "0.6978932881248139 0.6470781696801542 2.3965917452433647\n",
      "0.6470781696801542 0.6470781696801542 2.3965917452433647\n",
      "2.3965917452433647 0.6470781696801542 2.3965917452433647\n",
      "0.1329600082096691 0.11926772906097308 0.1676858511049902\n",
      "0.11926772906097308 0.11926772906097308 0.1676858511049902\n",
      "0.1676858511049902 0.11926772906097308 0.1676858511049902\n"
     ]
    },
    {
     "data": {
      "text/markdown": [
       "Original Data size: 48842</br>Predicted attribute: income-per-year</br>Protected attributes: sex, race</br>Favourable classes: 1</br>Dropped attributes:  </br>Training data size (ratio): 7.0</br>Test data size (ratio): 2.0</br>Validation data size (ratio): 3.0"
      ],
      "text/plain": [
       "<IPython.core.display.Markdown object>"
      ]
     },
     "metadata": {},
     "output_type": "display_data"
    },
    {
     "data": {
      "text/html": [
       "<style type=\"text/css\">\n",
       "#T_36b9e_row0_col3, #T_36b9e_row2_col4, #T_36b9e_row2_col5 {\n",
       "  background-color: #f0f0f0;\n",
       "}\n",
       "#T_36b9e_row0_col4 {\n",
       "  background-color: #06f006;\n",
       "}\n",
       "#T_36b9e_row0_col5 {\n",
       "  background-color: #43f043;\n",
       "}\n",
       "#T_36b9e_row1_col3 {\n",
       "  background-color: #e3f0e3;\n",
       "}\n",
       "#T_36b9e_row1_col4, #T_36b9e_row1_col5, #T_36b9e_row2_col3 {\n",
       "  font-weight: bold;\n",
       "  background-color: #00f000;\n",
       "}\n",
       "</style>\n",
       "<table id=\"T_36b9e\">\n",
       "  <thead>\n",
       "    <tr>\n",
       "      <th class=\"blank level0\" >&nbsp;</th>\n",
       "      <th id=\"T_36b9e_level0_col0\" class=\"col_heading level0 col0\" >Mitigation</th>\n",
       "      <th id=\"T_36b9e_level0_col1\" class=\"col_heading level0 col1\" >Dataset</th>\n",
       "      <th id=\"T_36b9e_level0_col2\" class=\"col_heading level0 col2\" >Classifier</th>\n",
       "      <th id=\"T_36b9e_level0_col3\" class=\"col_heading level0 col3\" >accuracy</th>\n",
       "      <th id=\"T_36b9e_level0_col4\" class=\"col_heading level0 col4\" >disparate_impact</th>\n",
       "      <th id=\"T_36b9e_level0_col5\" class=\"col_heading level0 col5\" >statistical_parity_difference</th>\n",
       "      <th id=\"T_36b9e_level0_col6\" class=\"col_heading level0 col6\" >average_odds_difference</th>\n",
       "      <th id=\"T_36b9e_level0_col7\" class=\"col_heading level0 col7\" >generalized_entropy_index</th>\n",
       "      <th id=\"T_36b9e_level0_col8\" class=\"col_heading level0 col8\" >theil_index</th>\n",
       "    </tr>\n",
       "  </thead>\n",
       "  <tbody>\n",
       "    <tr>\n",
       "      <th id=\"T_36b9e_level0_row0\" class=\"row_heading level0 row0\" >1</th>\n",
       "      <td id=\"T_36b9e_row0_col0\" class=\"data row0 col0\" >Original</td>\n",
       "      <td id=\"T_36b9e_row0_col1\" class=\"data row0 col1\" >Adult Dataset(7.0:2.0:3.0)</td>\n",
       "      <td id=\"T_36b9e_row0_col2\" class=\"data row0 col2\" >DecisionTreeClassifier</td>\n",
       "      <td id=\"T_36b9e_row0_col3\" class=\"data row0 col3\" >0.835562</td>\n",
       "      <td id=\"T_36b9e_row0_col4\" class=\"data row0 col4\" >0.302107</td>\n",
       "      <td id=\"T_36b9e_row0_col5\" class=\"data row0 col5\" >-0.132960</td>\n",
       "      <td id=\"T_36b9e_row0_col6\" class=\"data row0 col6\" >-0.056464</td>\n",
       "      <td id=\"T_36b9e_row0_col7\" class=\"data row0 col7\" >0.094805</td>\n",
       "      <td id=\"T_36b9e_row0_col8\" class=\"data row0 col8\" >0.152701</td>\n",
       "    </tr>\n",
       "    <tr>\n",
       "      <th id=\"T_36b9e_level0_row1\" class=\"row_heading level0 row1\" >2</th>\n",
       "      <td id=\"T_36b9e_row1_col0\" class=\"data row1 col0\" >DisparateImpactRemover</td>\n",
       "      <td id=\"T_36b9e_row1_col1\" class=\"data row1 col1\" >Adult Dataset(7.0:2.0:3.0)</td>\n",
       "      <td id=\"T_36b9e_row1_col2\" class=\"data row1 col2\" >DecisionTreeClassifier</td>\n",
       "      <td id=\"T_36b9e_row1_col3\" class=\"data row1 col3\" >0.835892</td>\n",
       "      <td id=\"T_36b9e_row1_col4\" class=\"data row1 col4\" >0.352922</td>\n",
       "      <td id=\"T_36b9e_row1_col5\" class=\"data row1 col5\" >-0.119268</td>\n",
       "      <td id=\"T_36b9e_row1_col6\" class=\"data row1 col6\" >-0.025650</td>\n",
       "      <td id=\"T_36b9e_row1_col7\" class=\"data row1 col7\" >0.094544</td>\n",
       "      <td id=\"T_36b9e_row1_col8\" class=\"data row1 col8\" >0.152194</td>\n",
       "    </tr>\n",
       "    <tr>\n",
       "      <th id=\"T_36b9e_level0_row2\" class=\"row_heading level0 row2\" >3</th>\n",
       "      <td id=\"T_36b9e_row2_col0\" class=\"data row2 col0\" >Reweighing</td>\n",
       "      <td id=\"T_36b9e_row2_col1\" class=\"data row2 col1\" >Adult Dataset(7.0:2.0:3.0)</td>\n",
       "      <td id=\"T_36b9e_row2_col2\" class=\"data row2 col2\" >DecisionTreeClassifier</td>\n",
       "      <td id=\"T_36b9e_row2_col3\" class=\"data row2 col3\" >0.841921</td>\n",
       "      <td id=\"T_36b9e_row2_col4\" class=\"data row2 col4\" >3.396592</td>\n",
       "      <td id=\"T_36b9e_row2_col5\" class=\"data row2 col5\" >0.167686</td>\n",
       "      <td id=\"T_36b9e_row2_col6\" class=\"data row2 col6\" >0.271833</td>\n",
       "      <td id=\"T_36b9e_row2_col7\" class=\"data row2 col7\" >0.107999</td>\n",
       "      <td id=\"T_36b9e_row2_col8\" class=\"data row2 col8\" >0.178945</td>\n",
       "    </tr>\n",
       "  </tbody>\n",
       "</table>\n"
      ],
      "text/plain": [
       "<pandas.io.formats.style.Styler at 0x1e4de36e7f0>"
      ]
     },
     "execution_count": 26,
     "metadata": {},
     "output_type": "execute_result"
    }
   ],
   "source": [
    "table = bm.display_summary()\n",
    "table.style.apply(bm.highlight_fairest_values, axis=1)"
   ]
  }
 ],
 "metadata": {
  "kernelspec": {
   "display_name": "Python 3 (ipykernel)",
   "language": "python",
   "name": "python3"
  },
  "language_info": {
   "codemirror_mode": {
    "name": "ipython",
    "version": 3
   },
   "file_extension": ".py",
   "mimetype": "text/x-python",
   "name": "python",
   "nbconvert_exporter": "python",
   "pygments_lexer": "ipython3",
   "version": "3.9.7"
  }
 },
 "nbformat": 4,
 "nbformat_minor": 2
}
